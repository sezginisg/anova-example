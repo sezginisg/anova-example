{
 "cells": [
  {
   "cell_type": "markdown",
   "id": "f2fabdd6",
   "metadata": {},
   "source": [
    "### ANOVA(Analysis of Variance)\n",
    "Ronald Fisher developed it; ANOVA (Analysis of Variance) is a statistical method for analyzing the relationship between more than two independent groups of a variable(comparing their means) and its effect on the numerical dependent variable. \n",
    "\n",
    "Why is that? Why can't we use t-tests instead of ANOVA?\n",
    "It's all about the multiple testing problem.\n",
    "\n",
    "#### Multiple Testing Problem\n",
    "When we carry out too many null hypothesis significance tests, our α error(Type 1 error) level increases to a point where the result will not be reliable due to a high chance of falsely getting at least one significant(false positive). Here is how that happens:\n",
    "\n",
    "P(Type 1 Error) = α\n",
    "P(Not Making An Error) = 1-α     \n",
    "P(Not Making An Error in k Test) = (1-α)^k\n",
    "P(Making at Least 1 Error in k Test) = 1 - (1-α)^k\n",
    "\n",
    "That means if we conduct 10 tests with a 0.05 α value, the probability of getting a significant result even though there are no actual significance increases to %40. \n",
    "1-(1-0.05)^10 = 1-(0.95)^10 = 1-0.5987 = 0.4013\n",
    "\n",
    "That's why for comparing the means of more than two independent groups, ANOVA is a more appropriate method to apply. There are two types and different variations of ANOVA. \n",
    "\n",
    "One Way Anova: Compares the groups' samples means of only one independent variable; hence it's one way. \n",
    "Two Way Anova: Compares the groups' means(effect) of two categorical independent variables on one continuous dependent variable.\n",
    "Manova(Multivariate Analysis of Variance): There are two or more dependent variables\n",
    "\n",
    "In this article, I will share an example of conducting One Way ANOVA.\n",
    "First, let's look at the steps to follow while conducting an ANOVA test.\n",
    "\n",
    "Step 1: Specify the Null and Alternative Hypotheses \n",
    "Step2: Set a significance level of α \n",
    "Step 3: Check the data to make sure it complies with ANOVA assumptions\n",
    "Step 4: Determine the F-critical value\n",
    "Calculate test(F) statistic\n",
    "Interprete the result\n",
    "\n",
    "#### Specifying the Null & Alternative Hypothesis\n",
    "\n",
    "Null Hypothesis: It's the default hypothesis against our assumptions about the study, which indicates no statistically significant difference between the groups. It can be something like this: There is no difference between the means of group A and group B.\n",
    "Alternative Hypothesis: It states our assumption, so the purpose of our research about the data. It can be something like this: Group A's mean is significantly different from Group B."
   ]
  },
  {
   "cell_type": "code",
   "execution_count": 1,
   "id": "c0d37d25",
   "metadata": {},
   "outputs": [],
   "source": [
    "import pandas as pd\n",
    "import numpy as np\n",
    "np.random.seed(42)"
   ]
  },
  {
   "cell_type": "code",
   "execution_count": 2,
   "id": "8b3dcff1",
   "metadata": {},
   "outputs": [],
   "source": [
    "#Create Artificial randomly distributed data representing students' exam results\n",
    "USA = np.random.normal(loc=74,scale=4,size=40)\n",
    "UK = np.random.normal(loc=88,scale=4,size=40)\n",
    "Germany = np.random.normal(loc=84,scale=4,size=40)"
   ]
  },
  {
   "cell_type": "code",
   "execution_count": 3,
   "id": "fe555dfb",
   "metadata": {},
   "outputs": [
    {
     "name": "stdout",
     "output_type": "stream",
     "text": [
      "USA:  73.1\n",
      "UK:  87.9\n",
      "Germany:  84.0\n"
     ]
    }
   ],
   "source": [
    "for i in range(3):\n",
    "    print(['USA: ','UK: ','Germany: '][i],[USA,UK,Germany][i].mean().round(1))"
   ]
  },
  {
   "cell_type": "code",
   "execution_count": 4,
   "id": "941aa34e",
   "metadata": {},
   "outputs": [],
   "source": [
    "#Create Dataframes representing each student groups\n",
    "list_USA = []\n",
    "for i in range(40): list_USA.append('USA')\n",
    "df_USA = pd.DataFrame(data={'Country':list_USA,'Results':list(map(lambda x: x.round(1), USA))})\n",
    "list_UK = []\n",
    "for i in range(40): list_UK.append('UK')\n",
    "df_UK = pd.DataFrame(data={'Country':list_UK,'Results':list(map(lambda x: x.round(1), UK))})\n",
    "list_Germany = []\n",
    "for i in range(40): list_Germany.append('Germany')\n",
    "df_Germany = pd.DataFrame(data={'Country':list_Germany,'Results':list(map(lambda x: x.round(1), Germany))})"
   ]
  },
  {
   "cell_type": "code",
   "execution_count": 5,
   "id": "1efff03d",
   "metadata": {},
   "outputs": [
    {
     "data": {
      "text/html": [
       "<div>\n",
       "<style scoped>\n",
       "    .dataframe tbody tr th:only-of-type {\n",
       "        vertical-align: middle;\n",
       "    }\n",
       "\n",
       "    .dataframe tbody tr th {\n",
       "        vertical-align: top;\n",
       "    }\n",
       "\n",
       "    .dataframe thead th {\n",
       "        text-align: right;\n",
       "    }\n",
       "</style>\n",
       "<table border=\"1\" class=\"dataframe\">\n",
       "  <thead>\n",
       "    <tr style=\"text-align: right;\">\n",
       "      <th></th>\n",
       "      <th>Country</th>\n",
       "      <th>Results</th>\n",
       "    </tr>\n",
       "  </thead>\n",
       "  <tbody>\n",
       "    <tr>\n",
       "      <th>0</th>\n",
       "      <td>USA</td>\n",
       "      <td>76.0</td>\n",
       "    </tr>\n",
       "    <tr>\n",
       "      <th>1</th>\n",
       "      <td>USA</td>\n",
       "      <td>73.4</td>\n",
       "    </tr>\n",
       "    <tr>\n",
       "      <th>2</th>\n",
       "      <td>USA</td>\n",
       "      <td>76.6</td>\n",
       "    </tr>\n",
       "    <tr>\n",
       "      <th>3</th>\n",
       "      <td>USA</td>\n",
       "      <td>80.1</td>\n",
       "    </tr>\n",
       "    <tr>\n",
       "      <th>4</th>\n",
       "      <td>USA</td>\n",
       "      <td>73.1</td>\n",
       "    </tr>\n",
       "    <tr>\n",
       "      <th>...</th>\n",
       "      <td>...</td>\n",
       "      <td>...</td>\n",
       "    </tr>\n",
       "    <tr>\n",
       "      <th>115</th>\n",
       "      <td>Germany</td>\n",
       "      <td>85.2</td>\n",
       "    </tr>\n",
       "    <tr>\n",
       "      <th>116</th>\n",
       "      <td>Germany</td>\n",
       "      <td>83.9</td>\n",
       "    </tr>\n",
       "    <tr>\n",
       "      <th>117</th>\n",
       "      <td>Germany</td>\n",
       "      <td>79.3</td>\n",
       "    </tr>\n",
       "    <tr>\n",
       "      <th>118</th>\n",
       "      <td>Germany</td>\n",
       "      <td>88.6</td>\n",
       "    </tr>\n",
       "    <tr>\n",
       "      <th>119</th>\n",
       "      <td>Germany</td>\n",
       "      <td>87.0</td>\n",
       "    </tr>\n",
       "  </tbody>\n",
       "</table>\n",
       "<p>120 rows × 2 columns</p>\n",
       "</div>"
      ],
      "text/plain": [
       "     Country  Results\n",
       "0        USA     76.0\n",
       "1        USA     73.4\n",
       "2        USA     76.6\n",
       "3        USA     80.1\n",
       "4        USA     73.1\n",
       "..       ...      ...\n",
       "115  Germany     85.2\n",
       "116  Germany     83.9\n",
       "117  Germany     79.3\n",
       "118  Germany     88.6\n",
       "119  Germany     87.0\n",
       "\n",
       "[120 rows x 2 columns]"
      ]
     },
     "execution_count": 5,
     "metadata": {},
     "output_type": "execute_result"
    }
   ],
   "source": [
    "#Concatenate the data frames into one\n",
    "df_students = df_USA.append([df_UK,df_Germany],ignore_index=True)\n",
    "df_students"
   ]
  },
  {
   "cell_type": "markdown",
   "id": "ca7e1787",
   "metadata": {},
   "source": [
    "Now let's take a quick look at our data to see how it's distributed."
   ]
  },
  {
   "cell_type": "code",
   "execution_count": 6,
   "id": "45995caa",
   "metadata": {},
   "outputs": [
    {
     "data": {
      "text/plain": [
       "<seaborn.axisgrid.FacetGrid at 0x7feea7bf1160>"
      ]
     },
     "execution_count": 6,
     "metadata": {},
     "output_type": "execute_result"
    },
    {
     "data": {
      "image/png": "[encoded data removed]",
      "text/plain": [
       "<Figure size 801.875x360 with 1 Axes>"
      ]
     },
     "metadata": {
      "needs_background": "light"
     },
     "output_type": "display_data"
    },
    {
     "data": {
      "image/png": "[encoded data removed]",
      "text/plain": [
       "<Figure size 801.875x360 with 1 Axes>"
      ]
     },
     "metadata": {
      "needs_background": "light"
     },
     "output_type": "display_data"
    }
   ],
   "source": [
    "import matplotlib.pyplot as plt\n",
    "%matplotlib inline\n",
    "import seaborn as sns\n",
    "sns.displot(df_students,x='Results',hue='Country',kind='kde',height=5,aspect=2)\n",
    "sns.displot(df_students,x='Results',hue='Country',multiple='dodge',height=5,aspect=2)"
   ]
  },
  {
   "cell_type": "markdown",
   "id": "467ca9d7",
   "metadata": {},
   "source": [
    "Even though we can safely assume that the data we created fulfills the ANOVA assumptions, we will test each assumption so we know how to do it in the future when it is required."
   ]
  },
  {
   "cell_type": "code",
   "execution_count": 7,
   "id": "1fa27ce9",
   "metadata": {},
   "outputs": [
    {
     "name": "stdout",
     "output_type": "stream",
     "text": [
      "For the USA:  Shapiro Wilk Test result didn't show non-normality, W= 0.98, P value= 0.66. There is no evidence to reject the null hypothesis of normality.\n",
      "\n",
      "\n",
      "For the UK:  Shapiro Wilk Test result didn't show non-normality, W= 0.97, P value= 0.37. There is no evidence to reject the null hypothesis of normality.\n",
      "\n",
      "\n",
      "For the Germany:  Shapiro Wilk Test result didn't show non-normality, W= 0.97, P value= 0.33. There is no evidence to reject the null hypothesis of normality.\n",
      "\n",
      "\n"
     ]
    }
   ],
   "source": [
    "#Normality:\n",
    "from scipy import stats\n",
    "def shapiro_test(x):\n",
    "    a = 0.05\n",
    "    test = stats.shapiro(x)\n",
    "    if test.pvalue <= 0.05:\n",
    "        return f'The distribution departed from normality significantly, W= {round(test.statistic,2)}, P value= {round(test.pvalue,2)}'\n",
    "    else:\n",
    "        return f\"Shapiro Wilk Test result didn't show non-normality, W= {round(test.statistic,2)}, P value= {round(test.pvalue,2)}. There is no evidence to reject the null hypothesis of normality.\"\n",
    "\n",
    "for i in range(3):\n",
    "    print([\"For the USA: \",\"For the UK: \",\"For the Germany: \"][i], shapiro_test([USA,UK,Germany][i]))\n",
    "    print('\\n')"
   ]
  },
  {
   "cell_type": "code",
   "execution_count": 8,
   "id": "fe2ba773",
   "metadata": {},
   "outputs": [
    {
     "data": {
      "text/plain": [
       "[14.526, 14.892, 11.891]"
      ]
     },
     "execution_count": 8,
     "metadata": {},
     "output_type": "execute_result"
    }
   ],
   "source": [
    "#Quick look at the variances\n",
    "[round(np.var(x, ddof=1),3) for x in [USA,UK,Germany]]"
   ]
  },
  {
   "cell_type": "code",
   "execution_count": 9,
   "id": "f7aceb12",
   "metadata": {},
   "outputs": [
    {
     "name": "stdout",
     "output_type": "stream",
     "text": [
      "0.7509512418165141 : large p-value suggests that our data is homogeneous\n"
     ]
    }
   ],
   "source": [
    "from scipy.stats import bartlett\n",
    "\n",
    "alpha = 0.05\n",
    "stat, p_bartlet = bartlett(USA,UK,Germany)\n",
    "if p_bartlet <= alpha:\n",
    "    print(p_bartlet,\": small p-value suggests that populations do not have equal variances\")\n",
    "else:\n",
    "    print(p_bartlet, \": large p-value suggests that our data is homogeneous\")"
   ]
  },
  {
   "cell_type": "code",
   "execution_count": 10,
   "id": "f57a3799",
   "metadata": {},
   "outputs": [],
   "source": [
    "#Setting up alpha value\n",
    "alpha = 0.05"
   ]
  },
  {
   "cell_type": "code",
   "execution_count": 19,
   "id": "c6847eaa",
   "metadata": {},
   "outputs": [
    {
     "data": {
      "text/plain": [
       "3.073762904449709"
      ]
     },
     "execution_count": 19,
     "metadata": {},
     "output_type": "execute_result"
    }
   ],
   "source": [
    "from scipy.stats import f \n",
    "dfn = len([USA,UK,Germany])-1\n",
    "dfd = len(df_students) - len([USA,UK,Germany])\n",
    "f.ppf(1-alpha,dfn,dfd)"
   ]
  },
  {
   "cell_type": "code",
   "execution_count": 14,
   "id": "ec30a349",
   "metadata": {},
   "outputs": [
    {
     "data": {
      "text/plain": [
       "171.14050790276357"
      ]
     },
     "execution_count": 14,
     "metadata": {},
     "output_type": "execute_result"
    }
   ],
   "source": [
    "\n",
    "\n",
    "# Here is the pseudo code\n",
    "\n",
    "# Calculate SSb\n",
    "# This is the amount of variability accounted for by the difference in means\n",
    "mean_of_means = df_students.Results.mean()\n",
    "\n",
    "ssbs = 0\n",
    "\n",
    "for country in df_students.Country.unique():\n",
    "    \n",
    "    group_mean = df_students[df_students.Country == country].Results.mean()\n",
    "    sum_of_s = (group_mean - mean_of_means)**2\n",
    "    ssbs += len(df_students[df_students.Country == country])* sum_of_s\n",
    "    \n",
    "ssb = ssbs\n",
    "# Calculate SSw\n",
    "\n",
    "ssw = 0\n",
    "for country in df_students.Country.unique():\n",
    "    n = len(df_students[df_students.Country == country])\n",
    "    group_var = np.var(df_students[df_students.Country == country].Results, ddof=1)\n",
    "    ssw += group_var*(n-1)\n",
    "\n",
    "# Calculate DFw\n",
    "\n",
    "\n",
    "# Calculate DFb\n",
    "\n",
    "# Calculate MSb\n",
    "\n",
    "MSb = ssb/dfn\n",
    "# Calculate MSw\n",
    "MSw = ssw/dfd\n",
    "# Calculate F-stat\n",
    "\n",
    "f_stat = MSb/MSw\n",
    "f_stat"
   ]
  },
  {
   "cell_type": "code",
   "execution_count": 16,
   "id": "cbad19ef",
   "metadata": {},
   "outputs": [],
   "source": [
    "from statsmodels.formula.api import ols\n",
    "import statsmodels.api as sm\n",
    "# why can we use ols in this case?\n",
    "anova = ols('Results~Country',data=df_students).fit()"
   ]
  },
  {
   "cell_type": "code",
   "execution_count": 17,
   "id": "a5ef89ec",
   "metadata": {},
   "outputs": [
    {
     "data": {
      "text/html": [
       "<table class=\"simpletable\">\n",
       "<caption>OLS Regression Results</caption>\n",
       "<tr>\n",
       "  <th>Dep. Variable:</th>         <td>Results</td>     <th>  R-squared:         </th> <td>   0.744</td>\n",
       "</tr>\n",
       "<tr>\n",
       "  <th>Model:</th>                   <td>OLS</td>       <th>  Adj. R-squared:    </th> <td>   0.739</td>\n",
       "</tr>\n",
       "<tr>\n",
       "  <th>Method:</th>             <td>Least Squares</td>  <th>  F-statistic:       </th> <td>   169.7</td>\n",
       "</tr>\n",
       "<tr>\n",
       "  <th>Date:</th>             <td>Sun, 14 Nov 2021</td> <th>  Prob (F-statistic):</th> <td>2.62e-35</td>\n",
       "</tr>\n",
       "<tr>\n",
       "  <th>Time:</th>                 <td>22:28:45</td>     <th>  Log-Likelihood:    </th> <td> -326.28</td>\n",
       "</tr>\n",
       "<tr>\n",
       "  <th>No. Observations:</th>      <td>   120</td>      <th>  AIC:               </th> <td>   658.6</td>\n",
       "</tr>\n",
       "<tr>\n",
       "  <th>Df Residuals:</th>          <td>   117</td>      <th>  BIC:               </th> <td>   666.9</td>\n",
       "</tr>\n",
       "<tr>\n",
       "  <th>Df Model:</th>              <td>     2</td>      <th>                     </th>     <td> </td>   \n",
       "</tr>\n",
       "<tr>\n",
       "  <th>Covariance Type:</th>      <td>nonrobust</td>    <th>                     </th>     <td> </td>   \n",
       "</tr>\n",
       "</table>\n",
       "<table class=\"simpletable\">\n",
       "<tr>\n",
       "         <td></td>           <th>coef</th>     <th>std err</th>      <th>t</th>      <th>P>|t|</th>  <th>[0.025</th>    <th>0.975]</th>  \n",
       "</tr>\n",
       "<tr>\n",
       "  <th>Intercept</th>      <td>   84.0375</td> <td>    0.588</td> <td>  143.021</td> <td> 0.000</td> <td>   82.874</td> <td>   85.201</td>\n",
       "</tr>\n",
       "<tr>\n",
       "  <th>Country[T.UK]</th>  <td>    3.8450</td> <td>    0.831</td> <td>    4.627</td> <td> 0.000</td> <td>    2.199</td> <td>    5.491</td>\n",
       "</tr>\n",
       "<tr>\n",
       "  <th>Country[T.USA]</th> <td>  -10.9100</td> <td>    0.831</td> <td>  -13.129</td> <td> 0.000</td> <td>  -12.556</td> <td>   -9.264</td>\n",
       "</tr>\n",
       "</table>\n",
       "<table class=\"simpletable\">\n",
       "<tr>\n",
       "  <th>Omnibus:</th>       <td> 0.385</td> <th>  Durbin-Watson:     </th> <td>   2.007</td>\n",
       "</tr>\n",
       "<tr>\n",
       "  <th>Prob(Omnibus):</th> <td> 0.825</td> <th>  Jarque-Bera (JB):  </th> <td>   0.103</td>\n",
       "</tr>\n",
       "<tr>\n",
       "  <th>Skew:</th>          <td>-0.013</td> <th>  Prob(JB):          </th> <td>   0.950</td>\n",
       "</tr>\n",
       "<tr>\n",
       "  <th>Kurtosis:</th>      <td> 3.142</td> <th>  Cond. No.          </th> <td>    3.73</td>\n",
       "</tr>\n",
       "</table><br/><br/>Notes:<br/>[1] Standard Errors assume that the covariance matrix of the errors is correctly specified."
      ],
      "text/plain": [
       "<class 'statsmodels.iolib.summary.Summary'>\n",
       "\"\"\"\n",
       "                            OLS Regression Results                            \n",
       "==============================================================================\n",
       "Dep. Variable:                Results   R-squared:                       0.744\n",
       "Model:                            OLS   Adj. R-squared:                  0.739\n",
       "Method:                 Least Squares   F-statistic:                     169.7\n",
       "Date:                Sun, 14 Nov 2021   Prob (F-statistic):           2.62e-35\n",
       "Time:                        22:28:45   Log-Likelihood:                -326.28\n",
       "No. Observations:                 120   AIC:                             658.6\n",
       "Df Residuals:                     117   BIC:                             666.9\n",
       "Df Model:                           2                                         \n",
       "Covariance Type:            nonrobust                                         \n",
       "==================================================================================\n",
       "                     coef    std err          t      P>|t|      [0.025      0.975]\n",
       "----------------------------------------------------------------------------------\n",
       "Intercept         84.0375      0.588    143.021      0.000      82.874      85.201\n",
       "Country[T.UK]      3.8450      0.831      4.627      0.000       2.199       5.491\n",
       "Country[T.USA]   -10.9100      0.831    -13.129      0.000     -12.556      -9.264\n",
       "==============================================================================\n",
       "Omnibus:                        0.385   Durbin-Watson:                   2.007\n",
       "Prob(Omnibus):                  0.825   Jarque-Bera (JB):                0.103\n",
       "Skew:                          -0.013   Prob(JB):                        0.950\n",
       "Kurtosis:                       3.142   Cond. No.                         3.73\n",
       "==============================================================================\n",
       "\n",
       "Notes:\n",
       "[1] Standard Errors assume that the covariance matrix of the errors is correctly specified.\n",
       "\"\"\""
      ]
     },
     "execution_count": 17,
     "metadata": {},
     "output_type": "execute_result"
    }
   ],
   "source": [
    "anova.summary()"
   ]
  },
  {
   "cell_type": "code",
   "execution_count": 18,
   "id": "e7fec3ce",
   "metadata": {},
   "outputs": [
    {
     "data": {
      "text/html": [
       "<div>\n",
       "<style scoped>\n",
       "    .dataframe tbody tr th:only-of-type {\n",
       "        vertical-align: middle;\n",
       "    }\n",
       "\n",
       "    .dataframe tbody tr th {\n",
       "        vertical-align: top;\n",
       "    }\n",
       "\n",
       "    .dataframe thead th {\n",
       "        text-align: right;\n",
       "    }\n",
       "</style>\n",
       "<table border=\"1\" class=\"dataframe\">\n",
       "  <thead>\n",
       "    <tr style=\"text-align: right;\">\n",
       "      <th></th>\n",
       "      <th>df</th>\n",
       "      <th>sum_sq</th>\n",
       "      <th>mean_sq</th>\n",
       "      <th>F</th>\n",
       "      <th>PR(&gt;F)</th>\n",
       "    </tr>\n",
       "  </thead>\n",
       "  <tbody>\n",
       "    <tr>\n",
       "      <th>Country</th>\n",
       "      <td>2.0</td>\n",
       "      <td>4686.96200</td>\n",
       "      <td>2343.481000</td>\n",
       "      <td>169.690165</td>\n",
       "      <td>2.619680e-35</td>\n",
       "    </tr>\n",
       "    <tr>\n",
       "      <th>Residual</th>\n",
       "      <td>117.0</td>\n",
       "      <td>1615.81125</td>\n",
       "      <td>13.810353</td>\n",
       "      <td>NaN</td>\n",
       "      <td>NaN</td>\n",
       "    </tr>\n",
       "  </tbody>\n",
       "</table>\n",
       "</div>"
      ],
      "text/plain": [
       "             df      sum_sq      mean_sq           F        PR(>F)\n",
       "Country     2.0  4686.96200  2343.481000  169.690165  2.619680e-35\n",
       "Residual  117.0  1615.81125    13.810353         NaN           NaN"
      ]
     },
     "execution_count": 18,
     "metadata": {},
     "output_type": "execute_result"
    }
   ],
   "source": [
    "sm.stats.anova_lm(anova, type=2)"
   ]
  },
  {
   "cell_type": "code",
   "execution_count": null,
   "id": "017d7eb4",
   "metadata": {},
   "outputs": [],
   "source": []
  }
 ],
 "metadata": {
  "kernelspec": {
   "display_name": "Python 3",
   "language": "python",
   "name": "python3"
  },
  "language_info": {
   "codemirror_mode": {
    "name": "ipython",
    "version": 3
   },
   "file_extension": ".py",
   "mimetype": "text/x-python",
   "name": "python",
   "nbconvert_exporter": "python",
   "pygments_lexer": "ipython3",
   "version": "3.8.8"
  }
 },
 "nbformat": 4,
 "nbformat_minor": 5
}
