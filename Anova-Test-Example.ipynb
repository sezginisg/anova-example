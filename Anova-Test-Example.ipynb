{
 "cells": [
  {
   "cell_type": "markdown",
   "id": "f2fabdd6",
   "metadata": {},
   "source": [
    "### ANOVA(Analysis of Variance)\n",
    "Ronald Fisher developed it; ANOVA (Analysis of Variance) is a statistical method for analyzing the relationship between more than two independent groups of a variable(comparing their means) and its effect on the numerical dependent variable. \n",
    "\n",
    "Why is that? Why can't we use t-tests instead of ANOVA?\n",
    "It's all about the multiple testing problem.\n",
    "\n",
    "#### Multiple Testing Problem\n",
    "When we carry out too many null hypothesis significance tests, our α error(Type 1 error) level increases to a point where the result will not be reliable due to a high chance of falsely getting at least one significant(false positive). Here is how that happens:\n",
    "\n",
    "P(Type 1 Error) = α\n",
    "P(Not Making An Error) = 1-α     \n",
    "P(Not Making An Error in k Test) = (1-α)^k\n",
    "P(Making at Least 1 Error in k Test) = 1 - (1-α)^k\n",
    "\n",
    "That means if we conduct 10 tests with a 0.05 α value, the probability of getting a significant result even though there are no actual significance increases to %40. \n",
    "1-(1-0.05)^10 = 1-(0.95)^10 = 1-0.5987 = 0.4013\n",
    "\n",
    "That's why for comparing the means of more than two independent groups, ANOVA is a more appropriate method to apply. There are two types and different variations of ANOVA. \n",
    "\n",
    "One Way Anova: Compares the groups' samples means of only one independent variable; hence it's one way. \n",
    "Two Way Anova: Compares the groups' means(effect) of two categorical independent variables on one continuous dependent variable.\n",
    "Manova(Multivariate Analysis of Variance): There are two or more dependent variables\n",
    "\n",
    "In this article, I will share an example of conducting One Way ANOVA.\n",
    "First, let's look at the steps to follow while conducting an ANOVA test.\n",
    "\n",
    "Step 1: Specify the Null and Alternative Hypotheses \n",
    "Step2: Set a significance level of α \n",
    "Step 3: Check the data to make sure it complies with ANOVA assumptions\n",
    "Step 4: Determine the F-critical value\n",
    "Calculate test(F) statistic\n",
    "Interprete the result\n",
    "\n",
    "#### Specifying the Null & Alternative Hypothesis\n",
    "\n",
    "Null Hypothesis: It's the default hypothesis against our assumptions about the study, which indicates no statistically significant difference between the groups. It can be something like this: There is no difference between the means of group A and group B.\n",
    "Alternative Hypothesis: It states our assumption, so the purpose of our research about the data. It can be something like this: Group A's mean is significantly different from Group B."
   ]
  },
  {
   "cell_type": "code",
   "execution_count": 57,
   "id": "c0d37d25",
   "metadata": {},
   "outputs": [],
   "source": [
    "import pandas as pd\n",
    "import numpy as np\n",
    "np.random.seed(42)"
   ]
  },
  {
   "cell_type": "code",
   "execution_count": 63,
   "id": "8b3dcff1",
   "metadata": {},
   "outputs": [],
   "source": [
    "#Create Artificial randomly distributed data representing students' exam results\n",
    "USA = np.random.normal(loc=74,scale=4,size=40)\n",
    "UK = np.random.normal(loc=88,scale=4,size=40)\n",
    "Germany = np.random.normal(loc=84,scale=4,size=40)"
   ]
  },
  {
   "cell_type": "code",
   "execution_count": 64,
   "id": "fe555dfb",
   "metadata": {},
   "outputs": [
    {
     "name": "stdout",
     "output_type": "stream",
     "text": [
      "USA:  73.9\n",
      "UK:  88.3\n",
      "Germany:  84.8\n"
     ]
    }
   ],
   "source": [
    "for i in range(3):\n",
    "    print(['USA: ','UK: ','Germany: '][i],[USA,UK,Germany][i].mean().round(1))"
   ]
  },
  {
   "cell_type": "code",
   "execution_count": 65,
   "id": "941aa34e",
   "metadata": {},
   "outputs": [],
   "source": [
    "#Create Dataframes representing each student groups\n",
    "list_USA = []\n",
    "for i in range(40): list_USA.append('USA')\n",
    "df_USA = pd.DataFrame(data={'Country':list_USA,'Results':list(map(lambda x: x.round(1), USA))})\n",
    "list_UK = []\n",
    "for i in range(40): list_UK.append('UK')\n",
    "df_UK = pd.DataFrame(data={'Country':list_UK,'Results':list(map(lambda x: x.round(1), UK))})\n",
    "list_Germany = []\n",
    "for i in range(40): list_Germany.append('Germany')\n",
    "df_Germany = pd.DataFrame(data={'Country':list_Germany,'Results':list(map(lambda x: x.round(1), Germany))})"
   ]
  },
  {
   "cell_type": "code",
   "execution_count": 66,
   "id": "1efff03d",
   "metadata": {},
   "outputs": [
    {
     "data": {
      "text/html": [
       "<div>\n",
       "<style scoped>\n",
       "    .dataframe tbody tr th:only-of-type {\n",
       "        vertical-align: middle;\n",
       "    }\n",
       "\n",
       "    .dataframe tbody tr th {\n",
       "        vertical-align: top;\n",
       "    }\n",
       "\n",
       "    .dataframe thead th {\n",
       "        text-align: right;\n",
       "    }\n",
       "</style>\n",
       "<table border=\"1\" class=\"dataframe\">\n",
       "  <thead>\n",
       "    <tr style=\"text-align: right;\">\n",
       "      <th></th>\n",
       "      <th>Country</th>\n",
       "      <th>Results</th>\n",
       "    </tr>\n",
       "  </thead>\n",
       "  <tbody>\n",
       "    <tr>\n",
       "      <th>0</th>\n",
       "      <td>USA</td>\n",
       "      <td>77.2</td>\n",
       "    </tr>\n",
       "    <tr>\n",
       "      <th>1</th>\n",
       "      <td>USA</td>\n",
       "      <td>70.4</td>\n",
       "    </tr>\n",
       "    <tr>\n",
       "      <th>2</th>\n",
       "      <td>USA</td>\n",
       "      <td>79.6</td>\n",
       "    </tr>\n",
       "    <tr>\n",
       "      <th>3</th>\n",
       "      <td>USA</td>\n",
       "      <td>68.4</td>\n",
       "    </tr>\n",
       "    <tr>\n",
       "      <th>4</th>\n",
       "      <td>USA</td>\n",
       "      <td>76.3</td>\n",
       "    </tr>\n",
       "    <tr>\n",
       "      <th>...</th>\n",
       "      <td>...</td>\n",
       "      <td>...</td>\n",
       "    </tr>\n",
       "    <tr>\n",
       "      <th>115</th>\n",
       "      <td>Germany</td>\n",
       "      <td>86.5</td>\n",
       "    </tr>\n",
       "    <tr>\n",
       "      <th>116</th>\n",
       "      <td>Germany</td>\n",
       "      <td>75.9</td>\n",
       "    </tr>\n",
       "    <tr>\n",
       "      <th>117</th>\n",
       "      <td>Germany</td>\n",
       "      <td>84.7</td>\n",
       "    </tr>\n",
       "    <tr>\n",
       "      <th>118</th>\n",
       "      <td>Germany</td>\n",
       "      <td>81.4</td>\n",
       "    </tr>\n",
       "    <tr>\n",
       "      <th>119</th>\n",
       "      <td>Germany</td>\n",
       "      <td>87.4</td>\n",
       "    </tr>\n",
       "  </tbody>\n",
       "</table>\n",
       "<p>120 rows × 2 columns</p>\n",
       "</div>"
      ],
      "text/plain": [
       "     Country  Results\n",
       "0        USA     77.2\n",
       "1        USA     70.4\n",
       "2        USA     79.6\n",
       "3        USA     68.4\n",
       "4        USA     76.3\n",
       "..       ...      ...\n",
       "115  Germany     86.5\n",
       "116  Germany     75.9\n",
       "117  Germany     84.7\n",
       "118  Germany     81.4\n",
       "119  Germany     87.4\n",
       "\n",
       "[120 rows x 2 columns]"
      ]
     },
     "execution_count": 66,
     "metadata": {},
     "output_type": "execute_result"
    }
   ],
   "source": [
    "#Concatenate the data frames into one\n",
    "df_students = df_USA.append([df_UK,df_Germany],ignore_index=True)\n",
    "df_students"
   ]
  },
  {
   "cell_type": "markdown",
   "id": "ca7e1787",
   "metadata": {},
   "source": [
    "Now let's take a quick look at our data to see how it's distributed."
   ]
  },
  {
   "cell_type": "code",
   "execution_count": 69,
   "id": "45995caa",
   "metadata": {},
   "outputs": [
    {
     "data": {
      "text/plain": [
       "<seaborn.axisgrid.FacetGrid at 0x7facbe013700>"
      ]
     },
     "execution_count": 69,
     "metadata": {},
     "output_type": "execute_result"
    },
    {
     "data": {
      "image/png": "[encoded data removed]",
      "text/plain": [
       "<Figure size 801.875x360 with 1 Axes>"
      ]
     },
     "metadata": {
      "needs_background": "light"
     },
     "output_type": "display_data"
    },
    {
     "data": {
      "image/png": "[encoded data removed]",
      "text/plain": [
       "<Figure size 801.875x360 with 1 Axes>"
      ]
     },
     "metadata": {
      "needs_background": "light"
     },
     "output_type": "display_data"
    }
   ],
   "source": [
    "import matplotlib.pyplot as plt\n",
    "%matplotlib inline\n",
    "import seaborn as sns\n",
    "sns.displot(df_students,x='Results',hue='Country',kind='kde',height=5,aspect=2)\n",
    "sns.displot(df_students,x='Results',hue='Country',multiple='dodge',height=5,aspect=2)"
   ]
  },
  {
   "cell_type": "markdown",
   "id": "467ca9d7",
   "metadata": {},
   "source": [
    "Even though we can safely assume that the data we created fulfills the ANOVA assumptions, we will test each assumption so we know how to do it in the future when it is required."
   ]
  },
  {
   "cell_type": "code",
   "execution_count": 85,
   "id": "1fa27ce9",
   "metadata": {},
   "outputs": [
    {
     "name": "stdout",
     "output_type": "stream",
     "text": [
      "For the USA:  Shapiro Wilk Test result didn't show non-normality, W= 0.96, P value= 0.16. There is no evidence to reject the null hypothesis of normality.\n",
      "\n",
      "\n",
      "For the UK:  Shapiro Wilk Test result didn't show non-normality, W= 0.96, P value= 0.22. There is no evidence to reject the null hypothesis of normality.\n",
      "\n",
      "\n",
      "For the Germany:  Shapiro Wilk Test result didn't show non-normality, W= 0.95, P value= 0.09. There is no evidence to reject the null hypothesis of normality.\n",
      "\n",
      "\n"
     ]
    }
   ],
   "source": [
    "#Normality:\n",
    "from scipy import stats\n",
    "def shapiro_test(x):\n",
    "    a = 0.05\n",
    "    test = stats.shapiro(x)\n",
    "    if test.pvalue <= 0.05:\n",
    "        return f'The distribution departed from normality significantly, W= {round(test.statistic,2)}, P value= {round(test.pvalue,2)}'\n",
    "    else:\n",
    "        return f\"Shapiro Wilk Test result didn't show non-normality, W= {round(test.statistic,2)}, P value= {round(test.pvalue,2)}. There is no evidence to reject the null hypothesis of normality.\"\n",
    "\n",
    "for i in range(3):\n",
    "    print([\"For the USA: \",\"For the UK: \",\"For the Germany: \"][i], shapiro_test([USA,UK,Germany][i]))\n",
    "    print('\\n')"
   ]
  },
  {
   "cell_type": "code",
   "execution_count": null,
   "id": "f7aceb12",
   "metadata": {},
   "outputs": [],
   "source": []
  }
 ],
 "metadata": {
  "kernelspec": {
   "display_name": "Python 3",
   "language": "python",
   "name": "python3"
  },
  "language_info": {
   "codemirror_mode": {
    "name": "ipython",
    "version": 3
   },
   "file_extension": ".py",
   "mimetype": "text/x-python",
   "name": "python",
   "nbconvert_exporter": "python",
   "pygments_lexer": "ipython3",
   "version": "3.8.8"
  }
 },
 "nbformat": 4,
 "nbformat_minor": 5
}
